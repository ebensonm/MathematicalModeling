{
 "cells": [
  {
   "cell_type": "markdown",
   "metadata": {},
   "source": [
    "# Volume 4: Optimal Control as Boundary Value Problems"
   ]
  },
  {
   "cell_type": "code",
   "execution_count": null,
   "metadata": {},
   "outputs": [],
   "source": [
    "import numpy as np\n",
    "from scipy.integrate import solve_bvp\n",
    "import matplotlib.pyplot as plt\n",
    "from functools import partial"
   ]
  },
  {
   "cell_type": "code",
   "execution_count": null,
   "metadata": {},
   "outputs": [],
   "source": [
    "def prob1():\n",
    "    '''\n",
    "    plot the solution to the following bvp\n",
    "    y'' + 3y = sin(t)\n",
    "    y(0) = 0, y(5pi) = pi/2.\n",
    "    '''\n",
    "    "
   ]
  },
  {
   "cell_type": "code",
   "execution_count": null,
   "metadata": {},
   "outputs": [],
   "source": [
    "def obstacle(x,y,W1=1,r=(1,1),c=(0,0)):\n",
    "    '''\n",
    "    Define an area that will represent an obstacle\n",
    "    \n",
    "    Parameters:\n",
    "        x (float): x position in space\n",
    "        y (float): y position in space\n",
    "        W1 (float): weight of cost\n",
    "        r (tuple): radius in x and y direction\n",
    "        c (tuple): center of the ellipse\n",
    "    '''\n",
    "\n",
    "    ellipse = ((x - c[0])**2/r[0] + (y - c[1])**2/r[1])**20 + 1\n",
    "\n",
    "    return W1 / ellipse\n",
    "\n",
    "def obstacle_dx(x,y,W1=1,r=(1,1,),c=(0,0)):\n",
    "    '''\n",
    "    x derivative of the obstacle\n",
    "\n",
    "    Parameters:\n",
    "        x (float): x position in space\n",
    "        y (float): y position in space\n",
    "        W (float): weight of cost\n",
    "        r (tuple): radius in x and y direction\n",
    "        c (tuple): center of the ellipse\n",
    "    '''\n",
    "\n",
    "    circle = (x - c[0])**2/r[0] + (y - c[1])**2/r[1]\n",
    "    numer = -40* W1 * (x-c[0])*(circle)**19\n",
    "    denom = r[0]*((circle)**20 + 1)**2\n",
    "\n",
    "    return numer / denom\n",
    "\n",
    "def obstacle_dy(x,y,W1=1,r=(1,1,),c=(0,0)):\n",
    "    '''\n",
    "    y derivative of the obstacle\n",
    "\n",
    "    Parameters:\n",
    "        x (float): x position in space\n",
    "        y (float): y position in space\n",
    "        W1 (float): weight of cost\n",
    "        r (tuple): radius in x and y direction\n",
    "        c (tuple): center of the ellipse\n",
    "    '''\n",
    "\n",
    "    circle = (x - c[0])**2/r[0] + (y - c[1])**2/r[1]\n",
    "    numer = -40 * W1 * (y-c[1])*(circle)**19\n",
    "    denom = r[1]*((circle)**20 + 1)**2\n",
    "\n",
    "    return numer / denom"
   ]
  },
  {
   "cell_type": "code",
   "execution_count": null,
   "metadata": {},
   "outputs": [],
   "source": [
    "def prob2():\n",
    "    '''\n",
    "    Find the optimal path for the fixed time horizon problem\n",
    "    '''\n",
    "    raise NotImplementedError('Problem 2 Incomplete')"
   ]
  },
  {
   "cell_type": "code",
   "execution_count": null,
   "metadata": {},
   "outputs": [],
   "source": [
    "def prob3():\n",
    "    '''\n",
    "    Solve the free time horizon BVP.\n",
    "    Plot the solution and return the correct end time\n",
    "    '''\n",
    "    raise NotImplementedError('Problem 3 Incomplete')\n"
   ]
  },
  {
   "cell_type": "code",
   "execution_count": null,
   "metadata": {},
   "outputs": [],
   "source": [
    "def prob4():\n",
    "    '''\n",
    "    Find the optimal path and time for the free time horizon problem.\n",
    "    Plot the solution and return the optimal time.\n",
    "    '''\n",
    "    raise NotImplementedError('Problem 4 Incomplete')"
   ]
  }
 ],
 "metadata": {
  "kernelspec": {
   "display_name": "Python 3",
   "language": "python",
   "name": "python3"
  },
  "language_info": {
   "codemirror_mode": {
    "name": "ipython",
    "version": 3
   },
   "file_extension": ".py",
   "mimetype": "text/x-python",
   "name": "python",
   "nbconvert_exporter": "python",
   "pygments_lexer": "ipython3",
   "version": "3.8.3"
  }
 },
 "nbformat": 4,
 "nbformat_minor": 2
}
